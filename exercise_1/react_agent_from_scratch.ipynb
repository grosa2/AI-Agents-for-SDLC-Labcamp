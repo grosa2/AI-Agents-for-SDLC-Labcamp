{
 "cells": [
  {
   "cell_type": "markdown",
   "metadata": {},
   "source": [
    "# Building a basic LLM agent from scratch"
   ]
  },
  {
   "cell_type": "code",
   "execution_count": 10,
   "metadata": {},
   "outputs": [],
   "source": [
    "# Inspired by https://www.deeplearning.ai/short-courses/ai-agents-in-langgraph/"
   ]
  },
  {
   "cell_type": "code",
   "execution_count": 11,
   "metadata": {},
   "outputs": [],
   "source": [
    "import openai\n",
    "import re\n",
    "import os\n",
    "from dotenv import load_dotenv\n",
    "from openai import OpenAI\n",
    "\n",
    "_ = load_dotenv()"
   ]
  },
  {
   "cell_type": "markdown",
   "metadata": {},
   "source": [
    "## 1. Setup OpenAI client"
   ]
  },
  {
   "cell_type": "code",
   "execution_count": 12,
   "metadata": {},
   "outputs": [],
   "source": [
    "client = OpenAI()\n",
    "\n",
    "OPENAI_MODEL_NAME = \"gpt-4o-mini\"\n",
    "OPENAI_MODEL_TEMPERATURE = 0"
   ]
  },
  {
   "cell_type": "code",
   "execution_count": 13,
   "metadata": {},
   "outputs": [],
   "source": [
    "chat_completion = client.chat.completions.create(\n",
    "    model=OPENAI_MODEL_NAME,\n",
    "    messages=[{\"role\": \"user\", \"content\": \"HI! How are you?\"}]\n",
    ")"
   ]
  },
  {
   "cell_type": "code",
   "execution_count": 14,
   "metadata": {},
   "outputs": [
    {
     "data": {
      "text/plain": [
       "\"Hello! I'm just a computer program, so I don't have feelings, but I'm here and ready to help you. How can I assist you today?\""
      ]
     },
     "execution_count": 14,
     "metadata": {},
     "output_type": "execute_result"
    }
   ],
   "source": [
    "chat_completion.choices[0].message.content"
   ]
  },
  {
   "cell_type": "markdown",
   "metadata": {},
   "source": [
    "## 2. Create a basic agent"
   ]
  },
  {
   "cell_type": "code",
   "execution_count": 15,
   "metadata": {},
   "outputs": [],
   "source": [
    "class Agent:\n",
    "    def __init__(self, system=\"\", llm_name=\"gpt-4o-mini\", llm_temperature=0):\n",
    "        self.model = llm_name\n",
    "        self.temperature = llm_temperature\n",
    "        self.system = system\n",
    "        \n",
    "        self.messages = []\n",
    "        if self.system:\n",
    "            self.messages.append({\"role\": \"system\", \"content\": system})\n",
    "\n",
    "    def __call__(self, message):\n",
    "        self.messages.append({\"role\": \"user\", \"content\": message})\n",
    "        result = self.execute()\n",
    "        self.messages.append({\"role\": \"assistant\", \"content\": result})\n",
    "        return result\n",
    "\n",
    "    def execute(self):\n",
    "        completion = client.chat.completions.create(\n",
    "                        model=self.model, \n",
    "                        temperature=self.temperature,\n",
    "                        messages=self.messages)\n",
    "        return completion.choices[0].message.content"
   ]
  },
  {
   "cell_type": "code",
   "execution_count": 16,
   "metadata": {},
   "outputs": [],
   "source": [
    "# \n",
    "# Define a simple ReAct agent prompt, in which we specify the actions that the agent can take, the reasoning process, and the tools and functions available to the agent.\n",
    "#\n",
    "prompt_template = \"\"\"\n",
    "You run in a loop of Thought, Action, PAUSE, Observation.\n",
    "At the end of the loop you output an Answer\n",
    "Use Thought to describe your thoughts about the question you have been asked.\n",
    "Use Action to run one of the actions available to you - then return PAUSE.\n",
    "Observation will be the result of running those actions.\n",
    "\n",
    "Your available actions are:\n",
    "\"\"\""
   ]
  },
  {
   "cell_type": "code",
   "execution_count": 17,
   "metadata": {},
   "outputs": [],
   "source": [
    "#\n",
    "# Implementing the tools available to the agent\n",
    "#\n",
    "\n",
    "\n",
    "def calculate(what: str) -> float:\n",
    "    return eval(what)\n",
    "\n",
    "\n",
    "def average_dog_weight(name: str) -> str:\n",
    "    if name in \"Scottish Terrier\": \n",
    "        return(\"Scottish Terriers average 20 lbs\")\n",
    "    elif name in \"Border Collie\":\n",
    "        return(\"a Border Collies average weight is 37 lbs\")\n",
    "    elif name in \"Toy Poodle\":\n",
    "        return(\"a toy poodles average weight is 7 lbs\")\n",
    "    else:\n",
    "        return(\"An average dog weights 50 lbs\")\n",
    "    \n",
    "\n",
    "tools_prompt = \"\"\"\n",
    "calculate:\n",
    "e.g. calculate: 4 * 7 / 3\n",
    "Runs a calculation and returns the number - uses Python so be sure to use floating point syntax if necessary\n",
    "\n",
    "average_dog_weight:\n",
    "e.g. average_dog_weight: Collie\n",
    "returns average weight of a dog when given the breed\n",
    "\n",
    "Example session:\n",
    "\n",
    "Question: How much does a Bulldog weight?\n",
    "Thought: I should look the dogs weight using average_dog_weight\n",
    "Action: average_dog_weight: Bulldog\n",
    "PAUSE\n",
    "\n",
    "You will be called again with this:\n",
    "\n",
    "Observation: A Bulldog weights 51 lbs\n",
    "\n",
    "You then output:\n",
    "\n",
    "Answer: A bulldog weights 51 lbs\n",
    "\"\"\""
   ]
  },
  {
   "cell_type": "code",
   "execution_count": 18,
   "metadata": {},
   "outputs": [
    {
     "name": "stdout",
     "output_type": "stream",
     "text": [
      "\n",
      "You run in a loop of Thought, Action, PAUSE, Observation.\n",
      "At the end of the loop you output an Answer\n",
      "Use Thought to describe your thoughts about the question you have been asked.\n",
      "Use Action to run one of the actions available to you - then return PAUSE.\n",
      "Observation will be the result of running those actions.\n",
      "\n",
      "Your available actions are:\n",
      "\n",
      "calculate:\n",
      "e.g. calculate: 4 * 7 / 3\n",
      "Runs a calculation and returns the number - uses Python so be sure to use floating point syntax if necessary\n",
      "\n",
      "average_dog_weight:\n",
      "e.g. average_dog_weight: Collie\n",
      "returns average weight of a dog when given the breed\n",
      "\n",
      "Example session:\n",
      "\n",
      "Question: How much does a Bulldog weigh?\n",
      "Thought: I should look the dogs weight using average_dog_weight\n",
      "Action: average_dog_weight: Bulldog\n",
      "PAUSE\n",
      "\n",
      "You will be called again with this:\n",
      "\n",
      "Observation: A Bulldog weights 51 lbs\n",
      "\n",
      "You then output:\n",
      "\n",
      "Answer: A bulldog weights 51 lbs\n",
      "\n"
     ]
    }
   ],
   "source": [
    "#\n",
    "# Compose full prompt\n",
    "#\n",
    "\n",
    "prompt = prompt_template + tools_prompt\n",
    "print(prompt)"
   ]
  },
  {
   "cell_type": "markdown",
   "metadata": {},
   "source": [
    "### 2.2 Examples using the defined components"
   ]
  },
  {
   "cell_type": "code",
   "execution_count": 10,
   "metadata": {},
   "outputs": [],
   "source": [
    "abot = Agent(prompt, OPENAI_MODEL_NAME, OPENAI_MODEL_TEMPERATURE)"
   ]
  },
  {
   "cell_type": "code",
   "execution_count": 18,
   "metadata": {},
   "outputs": [
    {
     "data": {
      "text/plain": [
       "\"Thought: I need to find the average weights of both a Border Collie and a Scottish Terrier to calculate their combined weight. I'll start by looking up the weight of a Border Collie.  \\nAction: average_dog_weight: Border Collie  \\nPAUSE\""
      ]
     },
     "execution_count": 18,
     "metadata": {},
     "output_type": "execute_result"
    }
   ],
   "source": [
    "question = \"\"\"I have 2 dogs, a border collie and a scottish terrier. \\\n",
    "What is their combined weight\"\"\"\n",
    "abot(question)"
   ]
  },
  {
   "cell_type": "code",
   "execution_count": 19,
   "metadata": {},
   "outputs": [
    {
     "name": "stdout",
     "output_type": "stream",
     "text": [
      "Observation: a Border Collies average weight is 37 lbs\n"
     ]
    }
   ],
   "source": [
    "next_prompt = \"Observation: {}\".format(average_dog_weight(\"Border Collie\"))\n",
    "print(next_prompt)"
   ]
  },
  {
   "cell_type": "code",
   "execution_count": 20,
   "metadata": {},
   "outputs": [
    {
     "data": {
      "text/plain": [
       "'Thought: Now that I have the weight of the Border Collie, I need to find the average weight of a Scottish Terrier to complete the calculation for their combined weight.  \\nAction: average_dog_weight: Scottish Terrier  \\nPAUSE'"
      ]
     },
     "execution_count": 20,
     "metadata": {},
     "output_type": "execute_result"
    }
   ],
   "source": [
    "abot(next_prompt)"
   ]
  },
  {
   "cell_type": "code",
   "execution_count": 21,
   "metadata": {},
   "outputs": [
    {
     "name": "stdout",
     "output_type": "stream",
     "text": [
      "Observation: Scottish Terriers average 20 lbs\n"
     ]
    }
   ],
   "source": [
    "next_prompt = \"Observation: {}\".format(average_dog_weight(\"Scottish Terrier\"))\n",
    "print(next_prompt)"
   ]
  },
  {
   "cell_type": "code",
   "execution_count": 22,
   "metadata": {},
   "outputs": [
    {
     "data": {
      "text/plain": [
       "'Thought: I now have the average weights for both dogs: the Border Collie weighs 37 lbs and the Scottish Terrier weighs 20 lbs. I can calculate their combined weight by adding these two values together.  \\nAction: calculate: 37 + 20  \\nPAUSE'"
      ]
     },
     "execution_count": 22,
     "metadata": {},
     "output_type": "execute_result"
    }
   ],
   "source": [
    "abot(next_prompt)"
   ]
  },
  {
   "cell_type": "code",
   "execution_count": 23,
   "metadata": {},
   "outputs": [
    {
     "name": "stdout",
     "output_type": "stream",
     "text": [
      "Observation: 57\n"
     ]
    }
   ],
   "source": [
    "next_prompt = \"Observation: {}\".format(eval(\"37 + 20\"))\n",
    "print(next_prompt)"
   ]
  },
  {
   "cell_type": "code",
   "execution_count": 24,
   "metadata": {},
   "outputs": [
    {
     "data": {
      "text/plain": [
       "'Answer: The combined weight of a Border Collie and a Scottish Terrier is 57 lbs.'"
      ]
     },
     "execution_count": 24,
     "metadata": {},
     "output_type": "execute_result"
    }
   ],
   "source": [
    "abot(next_prompt)"
   ]
  },
  {
   "cell_type": "markdown",
   "metadata": {},
   "source": [
    "## 3. Create the agent execution loop"
   ]
  },
  {
   "cell_type": "code",
   "execution_count": null,
   "metadata": {},
   "outputs": [],
   "source": [
    "#\n",
    "# Specify the actions that the agent can take\n",
    "#\n",
    "known_actions = {\n",
    "    \"calculate\": calculate,\n",
    "    \"average_dog_weight\": average_dog_weight\n",
    "}\n",
    "\n",
    "action_re = re.compile('^Action: (\\w+): (.*)$')  # create an action selector using regex"
   ]
  },
  {
   "cell_type": "code",
   "execution_count": 26,
   "metadata": {},
   "outputs": [],
   "source": [
    "#\n",
    "# This is the main function that will be used to query the agent\n",
    "#\n",
    "def query(question: str, max_turns: int = 5):\n",
    "    \"\"\"\n",
    "    Query the agent with a question, and return the answer.\n",
    "\n",
    "    This function interacts with an agent by sending a question and processing the agent's responses.\n",
    "    It continues to interact with the agent for a maximum number of turns or until no further actions are required.\n",
    "\n",
    "    Parameters:\n",
    "    question (str): The initial question to ask the agent.\n",
    "    max_turns (int): The maximum number of interaction turns with the agent. Default is 5.\n",
    "\n",
    "    Raises:\n",
    "    Exception: If an unknown action is encountered.\n",
    "\n",
    "    Returns:\n",
    "    None\n",
    "    \"\"\"\n",
    "    bot = Agent(prompt, OPENAI_MODEL_NAME, OPENAI_MODEL_TEMPERATURE)\n",
    "    next_prompt = question\n",
    "    for i in range(max_turns):\n",
    "        result = bot(next_prompt)\n",
    "        print(result)\n",
    "\n",
    "        actions = [\n",
    "            action_re.match(a) \n",
    "            for a in result.split('\\n') \n",
    "            if action_re.match(a)\n",
    "        ]\n",
    "\n",
    "        if actions:\n",
    "            # There is an action to run\n",
    "            action, action_input = actions[0].groups()\n",
    "            if action not in known_actions:\n",
    "                raise Exception(\"Unknown action: {}: {}\".format(action, action_input))\n",
    "            print(\" -- running {} {}\".format(action, action_input))\n",
    "            observation = known_actions[action](action_input)\n",
    "            print(\"Observation:\", observation)\n",
    "            next_prompt = \"Observation: {}\".format(observation)\n",
    "        else:\n",
    "            return"
   ]
  },
  {
   "cell_type": "markdown",
   "metadata": {},
   "source": [
    "### 3.1. Testing the agent loop"
   ]
  },
  {
   "cell_type": "code",
   "execution_count": 27,
   "metadata": {},
   "outputs": [
    {
     "name": "stdout",
     "output_type": "stream",
     "text": [
      "Thought: I need to find the average weights of both a Border Collie and a Scottish Terrier to calculate their combined weight. I'll start by looking up the weight of a Border Collie.  \n",
      "Action: average_dog_weight: Border Collie  \n",
      "PAUSE\n",
      " -- running average_dog_weight Border Collie  \n",
      "Observation: An average dog weights 50 lbs\n",
      "Thought: I have the weight for the Border Collie, which is 50 lbs. Now, I need to find the average weight of a Scottish Terrier to complete the calculation for their combined weight.  \n",
      "Action: average_dog_weight: Scottish Terrier  \n",
      "PAUSE\n",
      " -- running average_dog_weight Scottish Terrier  \n",
      "Observation: An average dog weights 50 lbs\n",
      "Thought: I have the weights for both dogs now. The Border Collie weighs 50 lbs and the Scottish Terrier also weighs 50 lbs. I can now calculate their combined weight.  \n",
      "Action: calculate: 50 + 50  \n",
      "PAUSE\n",
      " -- running calculate 50 + 50  \n",
      "Observation: 100\n",
      "Answer: The combined weight of a Border Collie and a Scottish Terrier is 100 lbs.\n"
     ]
    }
   ],
   "source": [
    "question = \"\"\"I have 2 dogs, a border collie and a scottish terrier. \\\n",
    "What is their combined weight\"\"\"\n",
    "query(question)"
   ]
  }
 ],
 "metadata": {
  "kernelspec": {
   "display_name": "agents-labcamp",
   "language": "python",
   "name": "python3"
  },
  "language_info": {
   "codemirror_mode": {
    "name": "ipython",
    "version": 3
   },
   "file_extension": ".py",
   "mimetype": "text/x-python",
   "name": "python",
   "nbconvert_exporter": "python",
   "pygments_lexer": "ipython3",
   "version": "3.11.10"
  }
 },
 "nbformat": 4,
 "nbformat_minor": 2
}
