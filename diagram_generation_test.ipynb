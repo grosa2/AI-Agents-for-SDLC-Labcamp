{
 "cells": [
  {
   "cell_type": "markdown",
   "metadata": {},
   "source": [
    "# Building a basic LLM Agent using Langgraph"
   ]
  },
  {
   "cell_type": "code",
   "execution_count": 48,
   "metadata": {
    "jupyter": {
     "is_executing": true
    }
   },
   "outputs": [],
   "source": [
    "# From https://langchain-ai.github.io/langgraph/how-tos/create-react-agent/"
   ]
  },
  {
   "cell_type": "code",
   "execution_count": 49,
   "metadata": {
    "jupyter": {
     "is_executing": true
    }
   },
   "outputs": [],
   "source": [
    "import openai\n",
    "import re\n",
    "import os\n",
    "from dotenv import load_dotenv\n",
    "from openai import OpenAI\n",
    "from langchain_openai import ChatOpenAI\n",
    "from langgraph.prebuilt import create_react_agent\n",
    "from typing import Literal\n",
    "from langchain_core.tools import tool\n",
    "\n",
    "_ = load_dotenv()"
   ]
  },
  {
   "cell_type": "markdown",
   "metadata": {},
   "source": [
    "## 1. Setup the LLM"
   ]
  },
  {
   "cell_type": "code",
   "execution_count": 50,
   "metadata": {
    "jupyter": {
     "is_executing": true
    }
   },
   "outputs": [],
   "source": [
    "#\n",
    "# Params\n",
    "#\n",
    "OPENAI_MODEL_NAME = \"gpt-4o-mini\"\n",
    "OPENAI_MODEL_TEMPERATURE = 0\n",
    "\n",
    "#\n",
    "# Initialize OpenAI\n",
    "#\n",
    "llm = ChatOpenAI(model=OPENAI_MODEL_NAME, temperature=OPENAI_MODEL_TEMPERATURE)\n",
    "\n",
    "client = OpenAI()\n",
    "\n",
    "def call_completion(system_prompt, user_prompt, model, temperature=1, client=client):\n",
    "    response = client.chat.completions.create(\n",
    "    model=model,\n",
    "    temperature=temperature,\n",
    "    messages=[\n",
    "        {\"role\": \"system\", \"content\": system_prompt},\n",
    "        {\"role\": \"user\", \"content\": user_prompt},\n",
    "    ]\n",
    "    )\n",
    "    \n",
    "    return response.choices[0].message.content"
   ]
  },
  {
   "cell_type": "markdown",
   "metadata": {},
   "source": [
    "## 2. Creating the Agent"
   ]
  },
  {
   "cell_type": "markdown",
   "metadata": {},
   "source": [
    "### 2.1 Define the tools"
   ]
  },
  {
   "cell_type": "code",
   "execution_count": 51,
   "metadata": {
    "jupyter": {
     "is_executing": true
    }
   },
   "outputs": [],
   "source": [
    "#\n",
    "# Define the tools that will be available to the agent. The description of each tool will be used by the agent to understand what the tool does.\n",
    "#\n",
    "\n",
    "import plantuml\n",
    "import os\n",
    "\n",
    "#\n",
    "# Implementing the tools available to the agent\n",
    "#\n",
    "\n",
    "@tool\n",
    "def generate_uml_code(user_story):\n",
    "    \"\"\"This tool generates a PlantUML diagram code from a user story (str).\"\"\"\n",
    "\n",
    "    uml_code = call_completion(system_prompt=\"Generate the PlantUML code for the input user story:\", user_prompt=str(user_story), model=OPENAI_MODEL_NAME, temperature=OPENAI_MODEL_TEMPERATURE)\n",
    "\n",
    "    return uml_code\n",
    "\n",
    "@tool\n",
    "def render_uml_diagram(uml_code, diagram_name):\n",
    "    \"\"\"This tool renders a PlantUML diagram from a PlantUML UML code. The diagram is saved as a PNG file with the provided name, returning the path to the saved file if successful.\"\"\"\n",
    "    plantuml_code = plantuml.PlantUML(url='http://www.plantuml.com/plantuml/img/')\n",
    "    diagram = plantuml_code.processes(uml_code)\n",
    "\n",
    "    diagram_name = diagram_name.replace(\" \", \"_\") + \".png\"\n",
    "    with open(diagram_name, \"wb\") as image_file:\n",
    "        image_file.write(diagram)\n",
    "\n",
    "    return \"Diagram saved at: \" +  os.path.abspath(diagram_name)\n",
    "\n",
    "tools = [generate_uml_code, render_uml_diagram]"
   ]
  },
  {
   "cell_type": "markdown",
   "metadata": {},
   "source": [
    "### 2.2 Create the graph"
   ]
  },
  {
   "cell_type": "code",
   "execution_count": 52,
   "metadata": {
    "jupyter": {
     "is_executing": true
    }
   },
   "outputs": [],
   "source": [
    "from langchain_core.messages.system import SystemMessage\n",
    "\n",
    "#\n",
    "# The built-in create_react_agent function embeds all the logic needed to create a basic ReAct agent\n",
    "#\n",
    "graph = create_react_agent(model=llm, tools=tools)"
   ]
  },
  {
   "cell_type": "code",
   "execution_count": 53,
   "metadata": {
    "jupyter": {
     "is_executing": true
    }
   },
   "outputs": [
    {
     "data": {
      "image/jpeg": "[encoded data removed]",
      "text/plain": [
       "<IPython.core.display.Image object>"
      ]
     },
     "metadata": {},
     "output_type": "display_data"
    }
   ],
   "source": [
    "from IPython.display import Image, display\n",
    "\n",
    "display(Image(graph.get_graph().draw_mermaid_png()))"
   ]
  },
  {
   "cell_type": "code",
   "execution_count": 54,
   "metadata": {
    "jupyter": {
     "is_executing": true
    }
   },
   "outputs": [],
   "source": [
    "#\n",
    "# Define an utility function to print the stream of messages\n",
    "#\n",
    "def print_stream(stream):\n",
    "    for s in stream:\n",
    "        message = s[\"messages\"][-1]\n",
    "        if isinstance(message, tuple):\n",
    "            print(message)\n",
    "        else:\n",
    "            message.pretty_print()"
   ]
  },
  {
   "cell_type": "markdown",
   "metadata": {},
   "source": [
    "## 3. Execute the Agent"
   ]
  },
  {
   "cell_type": "code",
   "execution_count": 55,
   "metadata": {},
   "outputs": [],
   "source": [
    "description = \"\"\"\n",
    "Below is a description of the functional requirements for a simple bank account management application in Python:\n",
    "\n",
    "### Functional Requirements\n",
    "\n",
    "1. **Create Bank Account**  \n",
    "   - **Description**: The system should allow users to create new bank accounts.\n",
    "   - **Inputs**: \n",
    "     - Account holder's name\n",
    "     - Initial deposit amount\n",
    "   - **Outputs**: \n",
    "     - Confirmation of account creation\n",
    "     - Account details (Account Number, Creation Date, Initial Balance)\n",
    "   - **Processing**:\n",
    "     - Validate input data (e.g., ensure initial deposit is a positive number).\n",
    "     - Generate a unique account number.\n",
    "     - Set the creation date as the current date.\n",
    "     - Store account information in the system.\n",
    "   - **Rules**:\n",
    "     - Each account must have a unique account number.\n",
    "     - Initial deposit should meet the minimum balance requirement if defined.\n",
    "\n",
    "2. **Transfer Money Between Accounts**  \n",
    "   - **Description**: The system should facilitate money transfers between two accounts.\n",
    "   - **Inputs**: \n",
    "     - Source account number\n",
    "     - Destination account number\n",
    "     - Transfer amount\n",
    "   - **Outputs**: \n",
    "     - Confirmation of successful transfer\n",
    "     - Updated balances for both accounts\n",
    "     - Error messages for failed transactions\n",
    "   - **Processing**:\n",
    "     - Validate input data (e.g., ensure accounts exist, the transfer amount is positive, and the source account has sufficient funds).\n",
    "     - Deduct the transfer amount from the source account.\n",
    "     - Credit the transfer amount to the destination account.\n",
    "     - Log the transaction details for record-keeping.\n",
    "   - **Rules**:\n",
    "     - Transfers cannot exceed the available balance of the source account.\n",
    "     - Both source and destination account numbers must be valid and exist in the system.\n",
    "\"\"\""
   ]
  },
  {
   "cell_type": "code",
   "execution_count": 56,
   "metadata": {},
   "outputs": [
    {
     "name": "stdout",
     "output_type": "stream",
     "text": [
      "================================\u001b[1m Human Message \u001b[0m=================================\n",
      "\n",
      "Generate some use case diagrams from the following functional requirements:\n",
      "\n",
      "Below is a description of the functional requirements for a simple bank account management application in Python:\n",
      "\n",
      "### Functional Requirements\n",
      "\n",
      "1. **Create Bank Account**  \n",
      "   - **Description**: The system should allow users to create new bank accounts.\n",
      "   - **Inputs**: \n",
      "     - Account holder's name\n",
      "     - Initial deposit amount\n",
      "   - **Outputs**: \n",
      "     - Confirmation of account creation\n",
      "     - Account details (Account Number, Creation Date, Initial Balance)\n",
      "   - **Processing**:\n",
      "     - Validate input data (e.g., ensure initial deposit is a positive number).\n",
      "     - Generate a unique account number.\n",
      "     - Set the creation date as the current date.\n",
      "     - Store account information in the system.\n",
      "   - **Rules**:\n",
      "     - Each account must have a unique account number.\n",
      "     - Initial deposit should meet the minimum balance requirement if defined.\n",
      "\n",
      "2. **Transfer Money Between Accounts**  \n",
      "   - **Description**: The system should facilitate money transfers between two accounts.\n",
      "   - **Inputs**: \n",
      "     - Source account number\n",
      "     - Destination account number\n",
      "     - Transfer amount\n",
      "   - **Outputs**: \n",
      "     - Confirmation of successful transfer\n",
      "     - Updated balances for both accounts\n",
      "     - Error messages for failed transactions\n",
      "   - **Processing**:\n",
      "     - Validate input data (e.g., ensure accounts exist, the transfer amount is positive, and the source account has sufficient funds).\n",
      "     - Deduct the transfer amount from the source account.\n",
      "     - Credit the transfer amount to the destination account.\n",
      "     - Log the transaction details for record-keeping.\n",
      "   - **Rules**:\n",
      "     - Transfers cannot exceed the available balance of the source account.\n",
      "     - Both source and destination account numbers must be valid and exist in the system.\n",
      "\n",
      "Ensure that the diagrams are correclty rendered and saved as images.\n",
      "==================================\u001b[1m Ai Message \u001b[0m==================================\n",
      "Tool Calls:\n",
      "  generate_uml_code (call_kkEKLc9EYRkvzkwZHDw9Q5FL)\n",
      " Call ID: call_kkEKLc9EYRkvzkwZHDw9Q5FL\n",
      "  Args:\n",
      "    user_story: As a user, I want to create a bank account so that I can manage my finances.\n",
      "  generate_uml_code (call_j7F9Hh4jX2LVRvaro8jyVCTu)\n",
      " Call ID: call_j7F9Hh4jX2LVRvaro8jyVCTu\n",
      "  Args:\n",
      "    user_story: As a user, I want to transfer money between accounts so that I can send funds to others.\n",
      "=================================\u001b[1m Tool Message \u001b[0m=================================\n",
      "Name: generate_uml_code\n",
      "\n",
      "```plantuml\n",
      "@startuml\n",
      "title User Story: Transfer Money Between Accounts\n",
      "\n",
      "actor User\n",
      "\n",
      "User -> (Transfer Money) : Initiate transfer\n",
      "(Transfer Money) -> (Select Accounts) : Choose source and destination accounts\n",
      "(Select Accounts) -> (Enter Amount) : Input transfer amount\n",
      "(Enter Amount) -> (Confirm Transfer) : Review and confirm details\n",
      "(Confirm Transfer) -> (Process Transfer) : Execute transaction\n",
      "(Process Transfer) -> User : Notify transfer success\n",
      "\n",
      "@enduml\n",
      "```\n",
      "==================================\u001b[1m Ai Message \u001b[0m==================================\n",
      "Tool Calls:\n",
      "  render_uml_diagram (call_bsOwEuc2X18cM7Vqa9XD1Bhp)\n",
      " Call ID: call_bsOwEuc2X18cM7Vqa9XD1Bhp\n",
      "  Args:\n",
      "    uml_code: ```plantuml\n",
      "@startuml\n",
      "title User Story: Create a Bank Account\n",
      "\n",
      "actor User\n",
      "rectangle \"Banking System\" {\n",
      "    usecase \"Create Bank Account\" as UC1\n",
      "}\n",
      "\n",
      "User --> UC1 : Request to create account\n",
      "UC1 --> User : Confirmation of account creation\n",
      "\n",
      "@enduml\n",
      "```\n",
      "    diagram_name: create_bank_account.png\n",
      "  render_uml_diagram (call_y91GLtGEet6Kq5ucyqvtmJEI)\n",
      " Call ID: call_y91GLtGEet6Kq5ucyqvtmJEI\n",
      "  Args:\n",
      "    uml_code: ```plantuml\n",
      "@startuml\n",
      "title User Story: Transfer Money Between Accounts\n",
      "\n",
      "actor User\n",
      "\n",
      "User -> (Transfer Money) : Initiate transfer\n",
      "(Transfer Money) -> (Select Accounts) : Choose source and destination accounts\n",
      "(Select Accounts) -> (Enter Amount) : Input transfer amount\n",
      "(Enter Amount) -> (Confirm Transfer) : Review and confirm details\n",
      "(Confirm Transfer) -> (Process Transfer) : Execute transaction\n",
      "(Process Transfer) -> User : Notify transfer success\n",
      "\n",
      "@enduml\n",
      "```\n",
      "    diagram_name: transfer_money.png\n",
      "=================================\u001b[1m Tool Message \u001b[0m=================================\n",
      "Name: render_uml_diagram\n",
      "\n",
      "Error: AttributeError(\"'PlantUMLHTTPError' object has no attribute 'message'\")\n",
      " Please fix your mistakes.\n",
      "==================================\u001b[1m Ai Message \u001b[0m==================================\n",
      "Tool Calls:\n",
      "  render_uml_diagram (call_RD1ko2rn3Hs5xpVIA4kfQeG3)\n",
      " Call ID: call_RD1ko2rn3Hs5xpVIA4kfQeG3\n",
      "  Args:\n",
      "    uml_code: @startuml\n",
      "title User Story: Create a Bank Account\n",
      "\n",
      "actor User\n",
      "rectangle \"Banking System\" {\n",
      "    usecase \"Create Bank Account\" as UC1\n",
      "}\n",
      "\n",
      "User --> UC1 : Request to create account\n",
      "UC1 --> User : Confirmation of account creation\n",
      "\n",
      "@enduml\n",
      "    diagram_name: create_bank_account.png\n",
      "  render_uml_diagram (call_lepsR5tqOE0b2zJt0zlIbV6N)\n",
      " Call ID: call_lepsR5tqOE0b2zJt0zlIbV6N\n",
      "  Args:\n",
      "    uml_code: @startuml\n",
      "title User Story: Transfer Money Between Accounts\n",
      "\n",
      "actor User\n",
      "\n",
      "User -> (Transfer Money) : Initiate transfer\n",
      "(Transfer Money) -> (Select Accounts) : Choose source and destination accounts\n",
      "(Select Accounts) -> (Enter Amount) : Input transfer amount\n",
      "(Enter Amount) -> (Confirm Transfer) : Review and confirm details\n",
      "(Confirm Transfer) -> (Process Transfer) : Execute transaction\n",
      "(Process Transfer) -> User : Notify transfer success\n",
      "\n",
      "@enduml\n",
      "    diagram_name: transfer_money.png\n",
      "=================================\u001b[1m Tool Message \u001b[0m=================================\n",
      "Name: render_uml_diagram\n",
      "\n",
      "Diagram saved at: /mnt/c/Users/gio.rosa/Desktop/bkp_mac/reply/bkp_galaxy_book/git/AI-Agents-for-SDLC-Labcamp-Nov-2024/transfer_money.png.png\n",
      "==================================\u001b[1m Ai Message \u001b[0m==================================\n",
      "\n",
      "The use case diagrams have been successfully generated and saved as images. Here are the details:\n",
      "\n",
      "1. **Create Bank Account Diagram**  \n",
      "   - ![Create Bank Account](sandbox:/mnt/c/Users/gio.rosa/Desktop/bkp_mac/reply/bkp_galaxy_book/git/AI-Agents-for-SDLC-Labcamp-Nov-2024/create_bank_account.png.png)\n",
      "\n",
      "2. **Transfer Money Between Accounts Diagram**  \n",
      "   - ![Transfer Money](sandbox:/mnt/c/Users/gio.rosa/Desktop/bkp_mac/reply/bkp_galaxy_book/git/AI-Agents-for-SDLC-Labcamp-Nov-2024/transfer_money.png.png)\n",
      "\n",
      "You can download the images using the links provided. If you need any further assistance, feel free to ask!\n"
     ]
    }
   ],
   "source": [
    "question = \"Generate some use case diagrams from the following functional requirements:\\n\" + description + \"\\nEnsure that the diagrams are correclty rendered and saved as images.\"\n",
    "\n",
    "inputs = {\"messages\": [(\"user\", question)]}\n",
    "print_stream(graph.stream(inputs, stream_mode=\"values\"))"
   ]
  },
  {
   "cell_type": "code",
   "execution_count": null,
   "metadata": {},
   "outputs": [],
   "source": []
  },
  {
   "cell_type": "code",
   "execution_count": null,
   "metadata": {},
   "outputs": [],
   "source": []
  },
  {
   "cell_type": "code",
   "execution_count": 57,
   "metadata": {},
   "outputs": [],
   "source": [
    "import plantuml\n",
    "from IPython.display import Image, display\n",
    "\n",
    "\n",
    "def render_uml_diagram(uml_code):\n",
    "    plantuml_code = plantuml.PlantUML(url='http://www.plantuml.com/plantuml/img/')\n",
    "    diagram = plantuml_code.processes(uml_code)\n",
    "\n",
    "    with open('diagram.png', 'wb') as image_file:\n",
    "        image_file.write(diagram)\n",
    "\n",
    "    return diagram\n",
    "\n",
    "\n",
    "d = \"\"\"\n",
    "@startuml\n",
    "Bob -> Alice : hello\n",
    "@enduml\n",
    "\"\"\"\n",
    "\n",
    "res = render_uml_diagram(d)"
   ]
  },
  {
   "cell_type": "code",
   "execution_count": 58,
   "metadata": {},
   "outputs": [
    {
     "data": {
      "image/png": "[encoded data removed]",
      "text/plain": [
       "<IPython.core.display.Image object>"
      ]
     },
     "metadata": {},
     "output_type": "display_data"
    }
   ],
   "source": [
    "import io\n",
    "\n",
    "display(Image(data=io.BytesIO(res).getvalue()))"
   ]
  },
  {
   "cell_type": "code",
   "execution_count": 59,
   "metadata": {},
   "outputs": [
    {
     "data": {
      "text/html": [
       "<img src=\"https://mermaid.ink/img/CmdyYXBoIExSOwogICAgQS0tPiBCICYgQyAmIEQ7CiAgICBCLS0-IEEgJiBFOwogICAgQy0tPiBBICYgRTsKICAgIEQtLT4gQSAmIEU7CiAgICBFLS0-IEIgJiBDICYgRDsK\"/>"
      ],
      "text/plain": [
       "<IPython.core.display.Image object>"
      ]
     },
     "metadata": {},
     "output_type": "display_data"
    }
   ],
   "source": [
    "import base64\n",
    "from IPython.display import Image, display\n",
    "import matplotlib.pyplot as plt\n",
    "\n",
    "def mm(graph):\n",
    "    graphbytes = graph.encode(\"utf8\")\n",
    "    base64_bytes = base64.urlsafe_b64encode(graphbytes)\n",
    "    base64_string = base64_bytes.decode(\"ascii\")\n",
    "    display(Image(url=\"https://mermaid.ink/img/\" + base64_string))\n",
    "\n",
    "mm(\"\"\"\n",
    "graph LR;\n",
    "    A--> B & C & D;\n",
    "    B--> A & E;\n",
    "    C--> A & E;\n",
    "    D--> A & E;\n",
    "    E--> B & C & D;\n",
    "\"\"\")"
   ]
  }
 ],
 "metadata": {
  "kernelspec": {
   "display_name": "agents-labcamp",
   "language": "python",
   "name": "python3"
  },
  "language_info": {
   "codemirror_mode": {
    "name": "ipython",
    "version": 3
   },
   "file_extension": ".py",
   "mimetype": "text/x-python",
   "name": "python",
   "nbconvert_exporter": "python",
   "pygments_lexer": "ipython3",
   "version": "3.11.10"
  }
 },
 "nbformat": 4,
 "nbformat_minor": 2
}
